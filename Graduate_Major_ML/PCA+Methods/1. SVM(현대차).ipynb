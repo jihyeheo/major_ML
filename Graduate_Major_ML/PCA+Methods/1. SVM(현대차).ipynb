{
 "cells": [
  {
   "cell_type": "code",
   "execution_count": 1,
   "metadata": {
    "executionInfo": {
     "elapsed": 7231,
     "status": "ok",
     "timestamp": 1670925082494,
     "user": {
      "displayName": "유도비",
      "userId": "15471959123168762547"
     },
     "user_tz": -540
    },
    "id": "lug5EOgZ8Vew"
   },
   "outputs": [
    {
     "ename": "ImportError",
     "evalue": "cannot import name 'StandardScaler' from 'sklearn.preprocessing' (unknown location)",
     "output_type": "error",
     "traceback": [
      "\u001b[1;31m---------------------------------------------------------------------------\u001b[0m",
      "\u001b[1;31mImportError\u001b[0m                               Traceback (most recent call last)",
      "Cell \u001b[1;32mIn [1], line 2\u001b[0m\n\u001b[0;32m      1\u001b[0m \u001b[38;5;66;03m#패키지 설정                               \u001b[39;00m\n\u001b[1;32m----> 2\u001b[0m \u001b[38;5;28;01mfrom\u001b[39;00m \u001b[38;5;21;01msklearn\u001b[39;00m\u001b[38;5;21;01m.\u001b[39;00m\u001b[38;5;21;01mpreprocessing\u001b[39;00m \u001b[38;5;28;01mimport\u001b[39;00m StandardScaler         \u001b[38;5;66;03m#정규화 모듈 설정\u001b[39;00m\n\u001b[0;32m      3\u001b[0m \u001b[38;5;28;01mfrom\u001b[39;00m \u001b[38;5;21;01msklearn\u001b[39;00m\u001b[38;5;21;01m.\u001b[39;00m\u001b[38;5;21;01mmodel_selection\u001b[39;00m \u001b[38;5;28;01mimport\u001b[39;00m train_test_split       \u001b[38;5;66;03m#학습용과 테스트용 분리\u001b[39;00m\n\u001b[0;32m      4\u001b[0m \u001b[38;5;28;01mfrom\u001b[39;00m \u001b[38;5;21;01msklearn\u001b[39;00m\u001b[38;5;21;01m.\u001b[39;00m\u001b[38;5;21;01mmetrics\u001b[39;00m \u001b[38;5;28;01mimport\u001b[39;00m mean_absolute_error\n",
      "\u001b[1;31mImportError\u001b[0m: cannot import name 'StandardScaler' from 'sklearn.preprocessing' (unknown location)"
     ]
    }
   ],
   "source": [
    "#패키지 설정                               \n",
    "from sklearn.preprocessing import StandardScaler         #정규화 모듈 설정\n",
    "from sklearn.model_selection import train_test_split       #학습용과 테스트용 분리\n",
    "from sklearn.metrics import mean_absolute_error\n",
    "from keras.models import Sequential        #딥러닝 모형화\n",
    "from keras.layers import Dense           #층간 노드 모두 연결\n",
    "import pandas as pd\n",
    "import seaborn as sns\n",
    "import matplotlib.pyplot as plt"
   ]
  },
  {
   "cell_type": "code",
   "execution_count": 2,
   "metadata": {
    "colab": {
     "base_uri": "https://localhost:8080/"
    },
    "executionInfo": {
     "elapsed": 23680,
     "status": "ok",
     "timestamp": 1670925106166,
     "user": {
      "displayName": "유도비",
      "userId": "15471959123168762547"
     },
     "user_tz": -540
    },
    "id": "cKJA9_65ArIj",
    "outputId": "0a55db65-6995-4a67-f350-a973305423f8"
   },
   "outputs": [
    {
     "name": "stdout",
     "output_type": "stream",
     "text": [
      "Mounted at /content/drive\n"
     ]
    }
   ],
   "source": [
    "from google.colab import files\n",
    "from google.colab import drive\n",
    "drive.mount('/content/drive')"
   ]
  },
  {
   "cell_type": "code",
   "execution_count": 4,
   "metadata": {},
   "outputs": [
    {
     "name": "stdout",
     "output_type": "stream",
     "text": [
      "Requirement already satisfied: numpy in c:\\users\\hu612\\anaconda3\\lib\\site-packages (1.19.5)\n"
     ]
    },
    {
     "name": "stderr",
     "output_type": "stream",
     "text": [
      "WARNING: Ignoring invalid distribution -tatsmodels (c:\\users\\hu612\\anaconda3\\lib\\site-packages)\n",
      "WARNING: Ignoring invalid distribution -tatsmodels (c:\\users\\hu612\\anaconda3\\lib\\site-packages)\n",
      "WARNING: Ignoring invalid distribution -tatsmodels (c:\\users\\hu612\\anaconda3\\lib\\site-packages)\n",
      "WARNING: Ignoring invalid distribution -tatsmodels (c:\\users\\hu612\\anaconda3\\lib\\site-packages)\n",
      "WARNING: Ignoring invalid distribution -tatsmodels (c:\\users\\hu612\\anaconda3\\lib\\site-packages)\n",
      "WARNING: Ignoring invalid distribution -tatsmodels (c:\\users\\hu612\\anaconda3\\lib\\site-packages)\n"
     ]
    }
   ],
   "source": [
    "!pip install numpy"
   ]
  },
  {
   "cell_type": "code",
   "execution_count": 6,
   "metadata": {
    "colab": {
     "base_uri": "https://localhost:8080/"
    },
    "executionInfo": {
     "elapsed": 1206,
     "status": "ok",
     "timestamp": 1670925284952,
     "user": {
      "displayName": "유도비",
      "userId": "15471959123168762547"
     },
     "user_tz": -540
    },
    "id": "j65ENKLUBB3F",
    "outputId": "af121172-e98d-4e14-c6b0-f8a8287ce1e8"
   },
   "outputs": [
    {
     "ename": "ModuleNotFoundError",
     "evalue": "No module named 'pandas'",
     "output_type": "error",
     "traceback": [
      "\u001b[1;31m---------------------------------------------------------------------------\u001b[0m",
      "\u001b[1;31mModuleNotFoundError\u001b[0m                       Traceback (most recent call last)",
      "Cell \u001b[1;32mIn [6], line 1\u001b[0m\n\u001b[1;32m----> 1\u001b[0m \u001b[38;5;28;01mimport\u001b[39;00m \u001b[38;5;21;01mpandas\u001b[39;00m \u001b[38;5;28;01mas\u001b[39;00m \u001b[38;5;21;01mpd\u001b[39;00m\n\u001b[0;32m      2\u001b[0m df \u001b[38;5;241m=\u001b[39m pd\u001b[38;5;241m.\u001b[39mread_excel(\u001b[38;5;124m'\u001b[39m\u001b[38;5;124m현대차 주가 관련 자료(엑셀)-1.xlsx\u001b[39m\u001b[38;5;124m'\u001b[39m)\n\u001b[0;32m      4\u001b[0m \u001b[38;5;28mprint\u001b[39m(df\u001b[38;5;241m.\u001b[39mhead(\u001b[38;5;241m3\u001b[39m))\n",
      "\u001b[1;31mModuleNotFoundError\u001b[0m: No module named 'pandas'"
     ]
    }
   ],
   "source": [
    "import pandas as pd\n",
    "df = pd.read_excel('현대차 주가 관련 자료(엑셀)-1.xlsx')\n",
    "\n",
    "print(df.head(3))"
   ]
  },
  {
   "cell_type": "code",
   "execution_count": 7,
   "metadata": {
    "colab": {
     "base_uri": "https://localhost:8080/"
    },
    "executionInfo": {
     "elapsed": 539,
     "status": "ok",
     "timestamp": 1670925288167,
     "user": {
      "displayName": "유도비",
      "userId": "15471959123168762547"
     },
     "user_tz": -540
    },
    "id": "pusc1G9SVb17",
    "outputId": "293b2e3f-2d3b-42f1-c721-885b8c7daf17"
   },
   "outputs": [
    {
     "data": {
      "text/plain": [
       "1    834\n",
       "2    107\n",
       "4     14\n",
       "0      7\n",
       "3      7\n",
       "Name: 7 거래일 이후 최고 상승률, dtype: int64"
      ]
     },
     "execution_count": 7,
     "metadata": {},
     "output_type": "execute_result"
    }
   ],
   "source": [
    "df['7 거래일 이후 최고 상승률'].value_counts()"
   ]
  },
  {
   "cell_type": "code",
   "execution_count": 8,
   "metadata": {
    "executionInfo": {
     "elapsed": 290,
     "status": "ok",
     "timestamp": 1670925291273,
     "user": {
      "displayName": "유도비",
      "userId": "15471959123168762547"
     },
     "user_tz": -540
    },
    "id": "bQ732GFpI67M"
   },
   "outputs": [],
   "source": [
    "df.set_index('일자',inplace=True)\n",
    "df = df.astype('float')   #inplace 가 없음"
   ]
  },
  {
   "cell_type": "code",
   "execution_count": 9,
   "metadata": {
    "colab": {
     "base_uri": "https://localhost:8080/"
    },
    "executionInfo": {
     "elapsed": 489,
     "status": "ok",
     "timestamp": 1670925294693,
     "user": {
      "displayName": "유도비",
      "userId": "15471959123168762547"
     },
     "user_tz": -540
    },
    "id": "ZctSRK3R9dY9",
    "outputId": "9345ebf9-83a3-43fd-fcd2-4b21930b1db4"
   },
   "outputs": [
    {
     "name": "stdout",
     "output_type": "stream",
     "text": [
      "     7 거래일 이후 최고 상승률\n",
      "0                  0\n",
      "1                  0\n",
      "2                  0\n",
      "3                  0\n",
      "4                  0\n",
      "..               ...\n",
      "964                1\n",
      "965                1\n",
      "966                1\n",
      "967                1\n",
      "968                1\n",
      "\n",
      "[969 rows x 1 columns]\n"
     ]
    }
   ],
   "source": [
    "y=df[['7 거래일 이후 최고 상승률']]   #목표변수의 데이터 프레임\n",
    "y = y.astype(int)\n",
    "y = y.reset_index()\n",
    "y=y[['7 거래일 이후 최고 상승률']] \n",
    "print(y)"
   ]
  },
  {
   "cell_type": "code",
   "execution_count": 10,
   "metadata": {
    "executionInfo": {
     "elapsed": 595,
     "status": "ok",
     "timestamp": 1670925297395,
     "user": {
      "displayName": "유도비",
      "userId": "15471959123168762547"
     },
     "user_tz": -540
    },
    "id": "0jfPtYOQJqvo"
   },
   "outputs": [],
   "source": [
    "X = df.drop('7 거래일 이후 최고 상승률', axis=1)"
   ]
  },
  {
   "cell_type": "code",
   "execution_count": 11,
   "metadata": {
    "executionInfo": {
     "elapsed": 6,
     "status": "ok",
     "timestamp": 1670925300635,
     "user": {
      "displayName": "유도비",
      "userId": "15471959123168762547"
     },
     "user_tz": -540
    },
    "id": "2OI1RbsZ-y6t"
   },
   "outputs": [],
   "source": [
    "X_train,X_test,y_train,y_test=train_test_split(X,y,test_size=0.3, random_state=1)    #학습용과 데이터 분리(7:3)"
   ]
  },
  {
   "cell_type": "code",
   "execution_count": 12,
   "metadata": {
    "executionInfo": {
     "elapsed": 306,
     "status": "ok",
     "timestamp": 1670925302481,
     "user": {
      "displayName": "유도비",
      "userId": "15471959123168762547"
     },
     "user_tz": -540
    },
    "id": "3dRvWRpN-zUV"
   },
   "outputs": [],
   "source": [
    "#정규화 스케일러 생성\n",
    "scalerX = StandardScaler()\n",
    "#정규화 스케일러를 학습용 데이터에 맞춤\n",
    "scalerX.fit(X_train)\n",
    "#정규화 스케일러로 학습용 데이터를 변환\n",
    "X_train_std=scalerX.transform(X_train)\n",
    "#정규화 스케일러로 테스트용 데이터를 변화\n",
    "X_test_std=scalerX.transform(X_test)"
   ]
  },
  {
   "cell_type": "code",
   "execution_count": 13,
   "metadata": {
    "executionInfo": {
     "elapsed": 281,
     "status": "ok",
     "timestamp": 1670925304300,
     "user": {
      "displayName": "유도비",
      "userId": "15471959123168762547"
     },
     "user_tz": -540
    },
    "id": "HClAk9rQcuDG"
   },
   "outputs": [],
   "source": [
    "import numpy as np\n",
    "y_train.reset_index(inplace=True)\n",
    "y_train2 = np.array(y_train['7 거래일 이후 최고 상승률'])\n",
    "y_test.reset_index(inplace=True)\n",
    "y_test2 = np.array(y_test['7 거래일 이후 최고 상승률'])"
   ]
  },
  {
   "cell_type": "code",
   "execution_count": 14,
   "metadata": {
    "executionInfo": {
     "elapsed": 587,
     "status": "ok",
     "timestamp": 1670925306002,
     "user": {
      "displayName": "유도비",
      "userId": "15471959123168762547"
     },
     "user_tz": -540
    },
    "id": "eZmzfvbZa-0R"
   },
   "outputs": [],
   "source": [
    "import numpy as np\n",
    "y_train2 = pd.get_dummies(y_train2)\n",
    "y_test2 = pd.get_dummies(y_test2)"
   ]
  },
  {
   "cell_type": "code",
   "execution_count": 15,
   "metadata": {
    "executionInfo": {
     "elapsed": 1138,
     "status": "ok",
     "timestamp": 1670925308332,
     "user": {
      "displayName": "유도비",
      "userId": "15471959123168762547"
     },
     "user_tz": -540
    },
    "id": "AeRhw2m7JX_E"
   },
   "outputs": [],
   "source": [
    "from sklearn import svm\n",
    "rbf = svm.SVC(kernel='rbf', gamma=0.5, C=0.1).fit(X_train_std, y_train['7 거래일 이후 최고 상승률'])"
   ]
  },
  {
   "cell_type": "code",
   "execution_count": 16,
   "metadata": {
    "executionInfo": {
     "elapsed": 6,
     "status": "ok",
     "timestamp": 1670925310270,
     "user": {
      "displayName": "유도비",
      "userId": "15471959123168762547"
     },
     "user_tz": -540
    },
    "id": "mp7Dau8fJYBI"
   },
   "outputs": [],
   "source": [
    "rbf_pred = rbf.predict(X_test_std)"
   ]
  },
  {
   "cell_type": "code",
   "execution_count": 17,
   "metadata": {
    "colab": {
     "base_uri": "https://localhost:8080/"
    },
    "executionInfo": {
     "elapsed": 7,
     "status": "ok",
     "timestamp": 1670925311650,
     "user": {
      "displayName": "유도비",
      "userId": "15471959123168762547"
     },
     "user_tz": -540
    },
    "id": "qDbICNEJLWIU",
    "outputId": "3a1ee237-9eb9-4fc9-c55a-212c12872cd1"
   },
   "outputs": [
    {
     "data": {
      "text/plain": [
       "array([[  0,   3,   0,   0,   0],\n",
       "       [  0, 248,   0,   0,   0],\n",
       "       [  0,  31,   0,   0,   0],\n",
       "       [  0,   3,   0,   0,   0],\n",
       "       [  0,   6,   0,   0,   0]])"
      ]
     },
     "execution_count": 17,
     "metadata": {},
     "output_type": "execute_result"
    }
   ],
   "source": [
    "y_test = y_test['7 거래일 이후 최고 상승률']\n",
    "import sklearn\n",
    "sklearn.metrics.confusion_matrix(y_test, rbf_pred)"
   ]
  },
  {
   "cell_type": "code",
   "execution_count": 18,
   "metadata": {
    "colab": {
     "base_uri": "https://localhost:8080/"
    },
    "executionInfo": {
     "elapsed": 622,
     "status": "ok",
     "timestamp": 1670925314594,
     "user": {
      "displayName": "유도비",
      "userId": "15471959123168762547"
     },
     "user_tz": -540
    },
    "id": "-2Xm1d7XLaxK",
    "outputId": "8643dd79-7a57-4895-fc42-9ffb3252e187"
   },
   "outputs": [
    {
     "name": "stdout",
     "output_type": "stream",
     "text": [
      "accuracy_score :  0.852233676975945\n",
      "precision_score :  0.7263022401719393\n",
      "recall_score:  0.852233676975945\n"
     ]
    },
    {
     "name": "stderr",
     "output_type": "stream",
     "text": [
      "/usr/local/lib/python3.8/dist-packages/sklearn/metrics/_classification.py:1318: UndefinedMetricWarning: Precision is ill-defined and being set to 0.0 in labels with no predicted samples. Use `zero_division` parameter to control this behavior.\n",
      "  _warn_prf(average, modifier, msg_start, len(result))\n"
     ]
    }
   ],
   "source": [
    "from sklearn.metrics import *\n",
    "acc = accuracy_score(y_test, rbf_pred)\n",
    "print('accuracy_score : ',acc)\n",
    "\n",
    "pre = precision_score(y_test, rbf_pred, average='weighted')\n",
    "print('precision_score : ', pre)\n",
    "\n",
    "recall = recall_score(y_test, rbf_pred, average='weighted')\n",
    "print('recall_score: ', recall)"
   ]
  }
 ],
 "metadata": {
  "colab": {
   "provenance": []
  },
  "kernelspec": {
   "display_name": "Python 3",
   "language": "python",
   "name": "python3"
  },
  "language_info": {
   "codemirror_mode": {
    "name": "ipython",
    "version": 3
   },
   "file_extension": ".py",
   "mimetype": "text/x-python",
   "name": "python",
   "nbconvert_exporter": "python",
   "pygments_lexer": "ipython3",
   "version": "3.8.5"
  }
 },
 "nbformat": 4,
 "nbformat_minor": 1
}
